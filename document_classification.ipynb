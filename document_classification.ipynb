{
 "cells": [
  {
   "cell_type": "code",
   "execution_count": 25,
   "metadata": {},
   "outputs": [],
   "source": [
    "# Bukola Grace Omotoso\n",
    "# CSCI 6350-001\n",
    "# Project 3\n",
    "# Due Date: 02/14/2020\n",
    "\n",
    "# Naive Bayes and Sentiment Classification\n",
    "\n"
   ]
  },
  {
   "cell_type": "code",
   "execution_count": 26,
   "metadata": {},
   "outputs": [],
   "source": [
    "import random;\n",
    "from nltk.classify import NaiveBayesClassifier;\n",
    "from nltk import classify;\n",
    "from nltk.metrics import *;\n",
    "import collections;\n",
    "import re\n",
    "from collections import Counter \n",
    "import string\n"
   ]
  },
  {
   "cell_type": "code",
   "execution_count": 27,
   "metadata": {},
   "outputs": [],
   "source": [
    "#   import state of the union speech\n",
    "def importSotu():\n",
    "\tinfile = open(\"sotu.txt\", \"r\");\n",
    "\tsotu_file = infile.readlines();\n",
    "\tsotu = [];\n",
    "\tfor line in sotu_file:\n",
    "\t\tif not line.strip():\n",
    "\t\t\tcontinue;\n",
    "\t\telse:\n",
    "\t\t\tsotu.append(line.strip()+\" \");\n",
    "\treturn sotu;"
   ]
  },
  {
   "cell_type": "code",
   "execution_count": 28,
   "metadata": {},
   "outputs": [],
   "source": [
    "#   create data structures for each party's speeches\n",
    "def separateSotuByParties(sotu, republicans, democrats):\n",
    "        all_presidents = [];\n",
    "        republican_sotu = [];\n",
    "        democrat_sotu = [];\n",
    "        independent_sotu = [];\n",
    "        dem = False;\n",
    "        rep = False;\n",
    "        ind = False;\n",
    "        speeches = \"\";\n",
    "        for line in sotu:\n",
    "                if line[0:3] ==\"***\": # A president's name, not part of speech\n",
    "                        #print(line);\n",
    "                        if rep == True and speeches != \"\":\n",
    "                                republican_sotu.append(speeches);\n",
    "                                speeches = \"\";\n",
    "                        elif dem == True and speeches != \"\":\n",
    "                                democrat_sotu.append(speeches);\n",
    "                                speeches =\"\";\n",
    "                        else:\n",
    "                                if speeches != \"\":\n",
    "                                        independent_sotu.append(speeches);\n",
    "                                        speeches = \"\";\n",
    "                        i1 = line.find(\"@\");\n",
    "                        i2 = line.find(\"@\", i1+1);\n",
    "                        president = line[i1+1:i2];\n",
    "                        #print(president);\n",
    "                        #if president not in all_presidents:\n",
    "                         #   all_presidents.append(president);\n",
    "                        if president in democrats: \n",
    "                                dem = True;\n",
    "                                rep = False;\n",
    "                                ind = False;\n",
    "                                continue;\n",
    "                        elif president in republicans:\n",
    "                                rep = True;\n",
    "                                dem = False;\n",
    "                                ind = False;\n",
    "                                continue;\n",
    "                        else:\n",
    "                                ind = True;\n",
    "                                rep = False;\n",
    "                                dem = False;\n",
    "                                continue;\n",
    "                else:\n",
    "                        speeches+=line;\n",
    "                        \n",
    "        if rep == True and speeches != \"\":\n",
    "                republican_sotu.append(speeches);\n",
    "        elif dem == True and speeches != \"\":\n",
    "                democrat_sotu.append(speeches);\n",
    "                        \n",
    "        #print(all_presidents);\n",
    "        #print(republican_sotu);\n",
    "        \n",
    "        return(republican_sotu, democrat_sotu);"
   ]
  },
  {
   "cell_type": "code",
   "execution_count": 29,
   "metadata": {},
   "outputs": [],
   "source": [
    "def getDemocratRepublicanSotu():    \n",
    "    # Create a list of republican presidents\n",
    "    republicans = ['Abraham Lincoln', 'Ulysses S. Grant', 'Rutherford B. Hayes', 'Chester A. Arthur',  \n",
    "                       'Benjamin Harrison',  'William McKinley', 'Theodore Roosevelt', 'William H. Taft', \n",
    "                       'Warren Harding', 'Calvin Coolidge', 'Herbert Hoover',  'Dwight D. Eisenhower',\n",
    "                       'Richard Nixon', 'Gerald R. Ford', 'Ronald Reagan', 'George H.W. Bush', 'George W. Bush', \n",
    "                       'Donald Trump' ];\n",
    "\n",
    "    # Create a list of democratic presidents\n",
    "    democrats = ['Andrew Jackson', 'Martin van Buren','Martin Van Buren','James Polk', 'Franklin Pierce',  'James Buchanan',  \n",
    "                 'Grover Cleveland', 'Woodrow Wilson' , 'Franklin D. Roosevelt',  'Harry S. Truman',  'Harry Truman',\n",
    "                 'John F. Kennedy',  'Lydon Johnson', 'Lyndon B. Johnson',  'Jimmy Carter', 'Bill Clinton', 'William J. Clinton', 'Barack Obama']\n",
    "\n",
    "    # import the state of the union speech\n",
    "    sotu = importSotu();\n",
    "\n",
    "    # Split the state of the union speech by party\n",
    "    republican_sotu, democrat_sotu = separateSotuByParties(sotu, republicans, democrats);\n",
    "\n",
    "    # Merge both speeeches to get all the speech\n",
    "    #Shuffle each parties' sotu (to guarantee randomness) before merging \n",
    "    random.shuffle(republican_sotu);\n",
    "    random.shuffle(democrat_sotu);\n",
    "\n",
    "    all_sotu = republican_sotu + democrat_sotu;\n",
    "\n",
    "    # Shuffle all the speeches again to guarantee randomness\n",
    "    random.shuffle(all_sotu);\n",
    "\n",
    "    #build a single list consisting of tuples made up of a state of the union speech\n",
    "    #and the party of the president who gave the speech\n",
    "    labeled_sotu = ([(speech, 'republican') for speech in republican_sotu] + [(speech, 'democrat') for speech in democrat_sotu]);\n",
    "    return labeled_sotu;"
   ]
  },
  {
   "cell_type": "code",
   "execution_count": 30,
   "metadata": {},
   "outputs": [],
   "source": [
    "# feature function - accepts a string(speech) and returns a dictionary with key\n",
    "# of some common features in opening and closin sentences in the speech\n",
    "\n",
    "def sentence_features(speech):\n",
    "    #get the opening sentence from the speech\n",
    "    openingsentence = speech.split(':')[0];\n",
    "    closingsentence = speech.split('.')[-2];\n",
    "\n",
    "    \n",
    "    # Words common to a democrat president in an opening speech\n",
    "    commonDemOpeningword = ['fellow',  'madam speaker', 'mr. speaker', 'vice president' , 'my fellow Americans', 'the united states', 'fellow citizens'];\n",
    "    hasCommonDemOpening = False;\n",
    "    \n",
    "    #if the opening sentence has the word Senate and House of Representatives,\n",
    "    #it is probably a speech by a republican president\n",
    "    commonRepOpeningWord = ['Senate and House of Representatives']\n",
    "    hasCommonRepOpening = False;\n",
    "    \n",
    "    #if the opening sentence has the word Fellow, it is probably a speech by a democrat president\n",
    "    for word in commonDemOpeningword:\n",
    "        if (word in openingsentence):\n",
    "            hasCommonDemOpening = True;\n",
    "            \n",
    "    for word in commonRepOpeningWord:\n",
    "        if (word in openingsentence):\n",
    "            hasCommonRepOpening = True;\n",
    "    \n",
    "    #if the closing sentence has the word America, it is probably said by a republican president\n",
    "    commonRepClosingWord = ['broadcast live' ]\n",
    "    hascommonRepClosingWord = False;\n",
    "\n",
    "     #if the closing sentence has the word America, it is probably said by a republican president\n",
    "    commonDemClosingWord = ['thank you', ]\n",
    "    hascommonDemClosingWord = False;\n",
    "\n",
    "    for word in commonDemClosingWord:\n",
    "        if (word in closingsentence):\n",
    "            hascommonDemClosingWord = True;\n",
    "            \n",
    "    for word in commonRepClosingWord:\n",
    "        if (word in closingsentence):\n",
    "            hascommonRepClosingWord = True;\n",
    "    \n",
    "\n",
    "\n",
    "    return {'hasCommonDemOpening': hasCommonDemOpening, 'hasCommonRepOpening': hasCommonRepOpening,\n",
    "            'hascommonDemClosingWord':hascommonDemClosingWord, 'hascommonRepClosingWord':hascommonRepClosingWord};\n"
   ]
  },
  {
   "cell_type": "code",
   "execution_count": 31,
   "metadata": {},
   "outputs": [],
   "source": [
    "def main():\n",
    "    labeled_sotu = getDemocratRepublicanSotu();\n",
    "    random.shuffle(labeled_sotu);\n",
    "    \n",
    "    # construct a list consisting of the opening sentence feature dictionary: The opening sentence in a speech\n",
    "    # and the party of the president who made the speech\n",
    "    featuresets = [(sentence_features(speech), party) for (speech, party) in labeled_sotu];\n",
    "    #print (featuresets);\n",
    "    \n",
    "    # Split data into training and test\n",
    "    cut = int(181 * 0.20);\n",
    "    train_set, test_set = featuresets[cut:], featuresets[:cut];\n",
    "    \n",
    "    #using the training set to train the classifer,\n",
    "    classifier = NaiveBayesClassifier.train(train_set)\n",
    "    # classify each entry in the test set individually\n",
    "    # and capture precision, recall, and F1\\n\",\n",
    "    refsets = collections.defaultdict(set);\n",
    "    testsets = collections.defaultdict(set);\n",
    "    for i, (features, sotu_label) in enumerate(test_set):\n",
    "        #print(i, (features, sotu_label));\n",
    "        refsets[sotu_label].add(i);\n",
    "        observed = classifier.classify(features);\n",
    "        testsets[observed].add(i);\n",
    "\n",
    "    #initialize variables to keep metrics\n",
    "    overall_accuracy = 0.0;\n",
    "    \n",
    "    dem_precision = 0.0;\n",
    "    dem_recall = 0.0;\n",
    "    dem_f1measure = 0.0;\n",
    "    \n",
    "    rep_precision = 0.0;\n",
    "    rep_recall = 0.0;\n",
    "    rep_f1measure = 0.0;\n",
    "    \n",
    "    for i in range(30):\n",
    "        overall_accuracy += classify.accuracy(classifier, test_set);\n",
    "        \n",
    "        dem_precision += precision(refsets['democrat'], testsets['democrat']);\n",
    "        dem_recall += recall(refsets['democrat'], testsets['democrat']);\n",
    "        dem_f1measure+= f_measure(refsets['democrat'], testsets['democrat']);\n",
    "        \n",
    "        rep_precision += precision(refsets['republican'], testsets['republican']);\n",
    "        rep_recall += recall(refsets['republican'], testsets['republican']);\n",
    "        rep_f1measure += f_measure(refsets['democrat'], testsets['democrat']);\n",
    "    \n",
    "    # Do 30 runs and print the average\n",
    "    # Print the accuracy for the overall classifier accuracy\n",
    "    print(\"{:40s} {:.2%} \".format(\"Overall Accuracy: \",(overall_accuracy/30)));\n",
    "\n",
    "    print();\n",
    "    #Print statistics for democrat president  speech\n",
    "    print (\"{:40s} {:.2%} \".format(\"democrat president speech precision:\", (dem_precision/30)));\n",
    "    print (\"{:40s} {:.2%} \".format(\"democrat president speech recall:\",(dem_recall/30)));\n",
    "    print (\"{:40s} {:.2%} \".format(\"democrat president speech F-measure:\",(dem_f1measure/30)))\n",
    "\n",
    "    print();\n",
    "    #Print statistics for republican president  speech\n",
    "    print (\"{:40s} {:.2%} \".format(\"republican president speech precision:\", (rep_precision/30)));\n",
    "    print (\"{:40s} {:.2%} \".format(\"republican president speech recall:\", (rep_recall/30)));\n",
    "    print (\"{:40s} {:.2%} \".format(\"republican president speech F-measure:\",(rep_f1measure/30)))"
   ]
  },
  {
   "cell_type": "code",
   "execution_count": null,
   "metadata": {},
   "outputs": [],
   "source": []
  },
  {
   "cell_type": "code",
   "execution_count": 32,
   "metadata": {},
   "outputs": [
    {
     "name": "stdout",
     "output_type": "stream",
     "text": [
      "Overall Accuracy:                        66.67% \n",
      "\n",
      "democrat president speech precision:     60.00% \n",
      "democrat president speech recall:        88.24% \n",
      "democrat president speech F-measure:     71.43% \n",
      "\n",
      "republican president speech precision:   81.82% \n",
      "republican president speech recall:      47.37% \n",
      "republican president speech F-measure:   71.43% \n"
     ]
    }
   ],
   "source": [
    "main();"
   ]
  },
  {
   "cell_type": "code",
   "execution_count": null,
   "metadata": {},
   "outputs": [],
   "source": []
  },
  {
   "cell_type": "code",
   "execution_count": null,
   "metadata": {},
   "outputs": [],
   "source": [
    " "
   ]
  },
  {
   "cell_type": "code",
   "execution_count": null,
   "metadata": {},
   "outputs": [],
   "source": []
  },
  {
   "cell_type": "code",
   "execution_count": null,
   "metadata": {},
   "outputs": [],
   "source": []
  },
  {
   "cell_type": "code",
   "execution_count": null,
   "metadata": {},
   "outputs": [],
   "source": []
  },
  {
   "cell_type": "code",
   "execution_count": null,
   "metadata": {},
   "outputs": [],
   "source": []
  },
  {
   "cell_type": "code",
   "execution_count": null,
   "metadata": {},
   "outputs": [],
   "source": []
  },
  {
   "cell_type": "code",
   "execution_count": null,
   "metadata": {},
   "outputs": [],
   "source": []
  },
  {
   "cell_type": "code",
   "execution_count": null,
   "metadata": {},
   "outputs": [],
   "source": [
    "\n"
   ]
  },
  {
   "cell_type": "code",
   "execution_count": null,
   "metadata": {},
   "outputs": [],
   "source": [
    "\n"
   ]
  },
  {
   "cell_type": "code",
   "execution_count": null,
   "metadata": {},
   "outputs": [],
   "source": []
  },
  {
   "cell_type": "code",
   "execution_count": null,
   "metadata": {},
   "outputs": [],
   "source": []
  },
  {
   "cell_type": "code",
   "execution_count": null,
   "metadata": {},
   "outputs": [],
   "source": []
  },
  {
   "cell_type": "code",
   "execution_count": null,
   "metadata": {},
   "outputs": [],
   "source": []
  },
  {
   "cell_type": "code",
   "execution_count": null,
   "metadata": {},
   "outputs": [],
   "source": []
  }
 ],
 "metadata": {
  "environment": {
   "name": "tf2-gpu.2-1.m49",
   "type": "gcloud",
   "uri": "gcr.io/deeplearning-platform-release/tf2-gpu.2-1:m49"
  },
  "kernelspec": {
   "display_name": "Python 3",
   "language": "python",
   "name": "python3"
  },
  "language_info": {
   "codemirror_mode": {
    "name": "ipython",
    "version": 3
   },
   "file_extension": ".py",
   "mimetype": "text/x-python",
   "name": "python",
   "nbconvert_exporter": "python",
   "pygments_lexer": "ipython3",
   "version": "3.7.6"
  }
 },
 "nbformat": 4,
 "nbformat_minor": 4
}
